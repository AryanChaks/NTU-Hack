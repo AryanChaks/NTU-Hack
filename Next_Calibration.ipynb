{
  "nbformat": 4,
  "nbformat_minor": 0,
  "metadata": {
    "colab": {
      "provenance": []
    },
    "kernelspec": {
      "name": "python3",
      "display_name": "Python 3"
    },
    "language_info": {
      "name": "python"
    }
  },
  "cells": [
    {
      "cell_type": "code",
      "execution_count": 22,
      "metadata": {
        "id": "ld2RR0BsoCcR"
      },
      "outputs": [],
      "source": [
        "import pandas as pd\n",
        "import numpy as np\n",
        "import tensorflow as tf\n",
        "from tensorflow.keras.models import Sequential\n",
        "from tensorflow.keras.layers import LSTM, Dense, Dropout\n",
        "from sklearn.model_selection import train_test_split\n",
        "import joblib\n",
        "import matplotlib.pyplot as plt"
      ]
    },
    {
      "cell_type": "code",
      "source": [
        "# Load preprocessed dataset\n",
        "df = pd.read_csv(\"Processed_Bosch_Dataset.csv\")"
      ],
      "metadata": {
        "id": "EFtjO3rpoKRl"
      },
      "execution_count": 2,
      "outputs": []
    },
    {
      "cell_type": "code",
      "source": [
        "# Select relevant features\n",
        "features = [\"Days_Since_Last_Calibration\", \"Days_Until_Next_Calibration\", \"Calibration_Interval_Years\"]\n",
        "target = \"Days_Until_Next_Calibration\"  # Predict when the next calibration is due"
      ],
      "metadata": {
        "id": "7g0Nnj4boT13"
      },
      "execution_count": 3,
      "outputs": []
    },
    {
      "cell_type": "code",
      "source": [
        "# Load the scaler from 'scaler.pkl'\n",
        "scaler = joblib.load(\"scaler.pkl\")"
      ],
      "metadata": {
        "id": "VdSFA0V9oUbc"
      },
      "execution_count": 8,
      "outputs": []
    },
    {
      "cell_type": "code",
      "source": [
        "# Apply the same transformation to maintain consistency\n",
        "features = [\"Calibration_Interval_Years\", \"Months_Remaining\", \"Days_Since_Last_Calibration\", \"Days_Until_Next_Calibration\"]\n",
        "df[features] = scaler.transform(df[features])  # Use transform() instead of fit_transform()"
      ],
      "metadata": {
        "id": "Ui9nEkk1pN0R"
      },
      "execution_count": 13,
      "outputs": []
    },
    {
      "cell_type": "code",
      "source": [
        "# Convert data to supervised learning format\n",
        "def create_sequences(data, target_col, seq_length=5):\n",
        "    X, y = [], []\n",
        "    for i in range(len(data) - seq_length):\n",
        "        X.append(data.iloc[i:i+seq_length].values)\n",
        "        y.append(data.iloc[i+seq_length][target_col])\n",
        "    return np.array(X), np.array(y)"
      ],
      "metadata": {
        "id": "djONa_W9pU64"
      },
      "execution_count": 14,
      "outputs": []
    },
    {
      "cell_type": "code",
      "source": [
        "# Convert to LSTM input format\n",
        "X, y = create_sequences(df[features], target)"
      ],
      "metadata": {
        "id": "25t-TJXcpWrC"
      },
      "execution_count": 15,
      "outputs": []
    },
    {
      "cell_type": "code",
      "source": [
        "# Train-test split\n",
        "X_train, X_test, y_train, y_test = train_test_split(X, y, test_size=0.2, random_state=42, shuffle=False)"
      ],
      "metadata": {
        "id": "honTiXsgpZH4"
      },
      "execution_count": 16,
      "outputs": []
    },
    {
      "cell_type": "code",
      "source": [
        "# Build LSTM Model\n",
        "model = Sequential([\n",
        "    LSTM(50, return_sequences=True, input_shape=(X_train.shape[1], X_train.shape[2])),\n",
        "    Dropout(0.2),\n",
        "    LSTM(50, return_sequences=False),\n",
        "    Dropout(0.2),\n",
        "    Dense(25, activation=\"relu\"),\n",
        "    Dense(1)  # Predict next calibration date\n",
        "])"
      ],
      "metadata": {
        "colab": {
          "base_uri": "https://localhost:8080/"
        },
        "id": "OeveeaS4pbCA",
        "outputId": "88c99665-ddec-4f67-e6ab-1573f2b1fdc2"
      },
      "execution_count": 17,
      "outputs": [
        {
          "output_type": "stream",
          "name": "stderr",
          "text": [
            "/usr/local/lib/python3.11/dist-packages/keras/src/layers/rnn/rnn.py:200: UserWarning: Do not pass an `input_shape`/`input_dim` argument to a layer. When using Sequential models, prefer using an `Input(shape)` object as the first layer in the model instead.\n",
            "  super().__init__(**kwargs)\n"
          ]
        }
      ]
    },
    {
      "cell_type": "code",
      "source": [
        "# Compile Model\n",
        "model.compile(optimizer=\"adam\", loss=\"mse\", metrics=[\"mae\"])"
      ],
      "metadata": {
        "id": "JiVpvmuDpdE2"
      },
      "execution_count": 18,
      "outputs": []
    },
    {
      "cell_type": "code",
      "source": [
        "# Train Model\n",
        "history = model.fit(X_train, y_train, validation_data=(X_test, y_test), epochs=50, batch_size=16, verbose=1)"
      ],
      "metadata": {
        "colab": {
          "base_uri": "https://localhost:8080/"
        },
        "id": "DkIwvAxFpdn4",
        "outputId": "07050ad7-3aeb-442a-ad24-0091074b1d0f"
      },
      "execution_count": 19,
      "outputs": [
        {
          "output_type": "stream",
          "name": "stdout",
          "text": [
            "Epoch 1/50\n",
            "\u001b[1m8/8\u001b[0m \u001b[32m━━━━━━━━━━━━━━━━━━━━\u001b[0m\u001b[37m\u001b[0m \u001b[1m8s\u001b[0m 89ms/step - loss: 0.0867 - mae: 0.2906 - val_loss: 0.0182 - val_mae: 0.1348\n",
            "Epoch 2/50\n",
            "\u001b[1m8/8\u001b[0m \u001b[32m━━━━━━━━━━━━━━━━━━━━\u001b[0m\u001b[37m\u001b[0m \u001b[1m0s\u001b[0m 21ms/step - loss: 0.0101 - mae: 0.0857 - val_loss: 0.0094 - val_mae: 0.0967\n",
            "Epoch 3/50\n",
            "\u001b[1m8/8\u001b[0m \u001b[32m━━━━━━━━━━━━━━━━━━━━\u001b[0m\u001b[37m\u001b[0m \u001b[1m0s\u001b[0m 15ms/step - loss: 0.0095 - mae: 0.0872 - val_loss: 1.3871e-04 - val_mae: 0.0114\n",
            "Epoch 4/50\n",
            "\u001b[1m8/8\u001b[0m \u001b[32m━━━━━━━━━━━━━━━━━━━━\u001b[0m\u001b[37m\u001b[0m \u001b[1m0s\u001b[0m 15ms/step - loss: 0.0021 - mae: 0.0379 - val_loss: 0.0022 - val_mae: 0.0462\n",
            "Epoch 5/50\n",
            "\u001b[1m8/8\u001b[0m \u001b[32m━━━━━━━━━━━━━━━━━━━━\u001b[0m\u001b[37m\u001b[0m \u001b[1m0s\u001b[0m 21ms/step - loss: 0.0021 - mae: 0.0399 - val_loss: 6.0352e-05 - val_mae: 0.0067\n",
            "Epoch 6/50\n",
            "\u001b[1m8/8\u001b[0m \u001b[32m━━━━━━━━━━━━━━━━━━━━\u001b[0m\u001b[37m\u001b[0m \u001b[1m0s\u001b[0m 16ms/step - loss: 0.0013 - mae: 0.0303 - val_loss: 3.6346e-04 - val_mae: 0.0181\n",
            "Epoch 7/50\n",
            "\u001b[1m8/8\u001b[0m \u001b[32m━━━━━━━━━━━━━━━━━━━━\u001b[0m\u001b[37m\u001b[0m \u001b[1m0s\u001b[0m 16ms/step - loss: 9.3762e-04 - mae: 0.0253 - val_loss: 8.1170e-05 - val_mae: 0.0059\n",
            "Epoch 8/50\n",
            "\u001b[1m8/8\u001b[0m \u001b[32m━━━━━━━━━━━━━━━━━━━━\u001b[0m\u001b[37m\u001b[0m \u001b[1m0s\u001b[0m 17ms/step - loss: 7.6848e-04 - mae: 0.0214 - val_loss: 7.9716e-05 - val_mae: 0.0087\n",
            "Epoch 9/50\n",
            "\u001b[1m8/8\u001b[0m \u001b[32m━━━━━━━━━━━━━━━━━━━━\u001b[0m\u001b[37m\u001b[0m \u001b[1m0s\u001b[0m 16ms/step - loss: 9.0834e-04 - mae: 0.0237 - val_loss: 2.6686e-04 - val_mae: 0.0135\n",
            "Epoch 10/50\n",
            "\u001b[1m8/8\u001b[0m \u001b[32m━━━━━━━━━━━━━━━━━━━━\u001b[0m\u001b[37m\u001b[0m \u001b[1m0s\u001b[0m 16ms/step - loss: 9.7662e-04 - mae: 0.0259 - val_loss: 1.0872e-04 - val_mae: 0.0100\n",
            "Epoch 11/50\n",
            "\u001b[1m8/8\u001b[0m \u001b[32m━━━━━━━━━━━━━━━━━━━━\u001b[0m\u001b[37m\u001b[0m \u001b[1m0s\u001b[0m 17ms/step - loss: 8.2068e-04 - mae: 0.0236 - val_loss: 1.7266e-04 - val_mae: 0.0126\n",
            "Epoch 12/50\n",
            "\u001b[1m8/8\u001b[0m \u001b[32m━━━━━━━━━━━━━━━━━━━━\u001b[0m\u001b[37m\u001b[0m \u001b[1m0s\u001b[0m 16ms/step - loss: 7.5280e-04 - mae: 0.0230 - val_loss: 1.7061e-04 - val_mae: 0.0121\n",
            "Epoch 13/50\n",
            "\u001b[1m8/8\u001b[0m \u001b[32m━━━━━━━━━━━━━━━━━━━━\u001b[0m\u001b[37m\u001b[0m \u001b[1m0s\u001b[0m 16ms/step - loss: 8.8650e-04 - mae: 0.0256 - val_loss: 1.2923e-04 - val_mae: 0.0111\n",
            "Epoch 14/50\n",
            "\u001b[1m8/8\u001b[0m \u001b[32m━━━━━━━━━━━━━━━━━━━━\u001b[0m\u001b[37m\u001b[0m \u001b[1m0s\u001b[0m 18ms/step - loss: 8.6174e-04 - mae: 0.0235 - val_loss: 1.6266e-04 - val_mae: 0.0108\n",
            "Epoch 15/50\n",
            "\u001b[1m8/8\u001b[0m \u001b[32m━━━━━━━━━━━━━━━━━━━━\u001b[0m\u001b[37m\u001b[0m \u001b[1m0s\u001b[0m 16ms/step - loss: 8.3072e-04 - mae: 0.0235 - val_loss: 8.9019e-05 - val_mae: 0.0076\n",
            "Epoch 16/50\n",
            "\u001b[1m8/8\u001b[0m \u001b[32m━━━━━━━━━━━━━━━━━━━━\u001b[0m\u001b[37m\u001b[0m \u001b[1m0s\u001b[0m 23ms/step - loss: 6.7935e-04 - mae: 0.0213 - val_loss: 2.3848e-05 - val_mae: 0.0046\n",
            "Epoch 17/50\n",
            "\u001b[1m8/8\u001b[0m \u001b[32m━━━━━━━━━━━━━━━━━━━━\u001b[0m\u001b[37m\u001b[0m \u001b[1m0s\u001b[0m 29ms/step - loss: 9.0178e-04 - mae: 0.0239 - val_loss: 1.0557e-04 - val_mae: 0.0098\n",
            "Epoch 18/50\n",
            "\u001b[1m8/8\u001b[0m \u001b[32m━━━━━━━━━━━━━━━━━━━━\u001b[0m\u001b[37m\u001b[0m \u001b[1m0s\u001b[0m 31ms/step - loss: 7.1874e-04 - mae: 0.0217 - val_loss: 1.4503e-04 - val_mae: 0.0118\n",
            "Epoch 19/50\n",
            "\u001b[1m8/8\u001b[0m \u001b[32m━━━━━━━━━━━━━━━━━━━━\u001b[0m\u001b[37m\u001b[0m \u001b[1m0s\u001b[0m 23ms/step - loss: 9.2149e-04 - mae: 0.0255 - val_loss: 6.2944e-05 - val_mae: 0.0073\n",
            "Epoch 20/50\n",
            "\u001b[1m8/8\u001b[0m \u001b[32m━━━━━━━━━━━━━━━━━━━━\u001b[0m\u001b[37m\u001b[0m \u001b[1m0s\u001b[0m 28ms/step - loss: 9.8760e-04 - mae: 0.0239 - val_loss: 4.4328e-04 - val_mae: 0.0206\n",
            "Epoch 21/50\n",
            "\u001b[1m8/8\u001b[0m \u001b[32m━━━━━━━━━━━━━━━━━━━━\u001b[0m\u001b[37m\u001b[0m \u001b[1m0s\u001b[0m 28ms/step - loss: 7.6172e-04 - mae: 0.0233 - val_loss: 2.2068e-04 - val_mae: 0.0134\n",
            "Epoch 22/50\n",
            "\u001b[1m8/8\u001b[0m \u001b[32m━━━━━━━━━━━━━━━━━━━━\u001b[0m\u001b[37m\u001b[0m \u001b[1m0s\u001b[0m 30ms/step - loss: 6.4908e-04 - mae: 0.0211 - val_loss: 1.5014e-04 - val_mae: 0.0101\n",
            "Epoch 23/50\n",
            "\u001b[1m8/8\u001b[0m \u001b[32m━━━━━━━━━━━━━━━━━━━━\u001b[0m\u001b[37m\u001b[0m \u001b[1m0s\u001b[0m 29ms/step - loss: 6.7223e-04 - mae: 0.0207 - val_loss: 4.4762e-04 - val_mae: 0.0197\n",
            "Epoch 24/50\n",
            "\u001b[1m8/8\u001b[0m \u001b[32m━━━━━━━━━━━━━━━━━━━━\u001b[0m\u001b[37m\u001b[0m \u001b[1m0s\u001b[0m 29ms/step - loss: 6.5358e-04 - mae: 0.0208 - val_loss: 3.8742e-04 - val_mae: 0.0179\n",
            "Epoch 25/50\n",
            "\u001b[1m8/8\u001b[0m \u001b[32m━━━━━━━━━━━━━━━━━━━━\u001b[0m\u001b[37m\u001b[0m \u001b[1m0s\u001b[0m 15ms/step - loss: 7.1303e-04 - mae: 0.0204 - val_loss: 1.3565e-04 - val_mae: 0.0092\n",
            "Epoch 26/50\n",
            "\u001b[1m8/8\u001b[0m \u001b[32m━━━━━━━━━━━━━━━━━━━━\u001b[0m\u001b[37m\u001b[0m \u001b[1m0s\u001b[0m 21ms/step - loss: 5.3285e-04 - mae: 0.0193 - val_loss: 2.0442e-04 - val_mae: 0.0119\n",
            "Epoch 27/50\n",
            "\u001b[1m8/8\u001b[0m \u001b[32m━━━━━━━━━━━━━━━━━━━━\u001b[0m\u001b[37m\u001b[0m \u001b[1m0s\u001b[0m 17ms/step - loss: 5.0449e-04 - mae: 0.0183 - val_loss: 3.0680e-04 - val_mae: 0.0164\n",
            "Epoch 28/50\n",
            "\u001b[1m8/8\u001b[0m \u001b[32m━━━━━━━━━━━━━━━━━━━━\u001b[0m\u001b[37m\u001b[0m \u001b[1m0s\u001b[0m 16ms/step - loss: 5.1596e-04 - mae: 0.0187 - val_loss: 4.6166e-05 - val_mae: 0.0061\n",
            "Epoch 29/50\n",
            "\u001b[1m8/8\u001b[0m \u001b[32m━━━━━━━━━━━━━━━━━━━━\u001b[0m\u001b[37m\u001b[0m \u001b[1m0s\u001b[0m 17ms/step - loss: 6.9281e-04 - mae: 0.0218 - val_loss: 4.7123e-04 - val_mae: 0.0207\n",
            "Epoch 30/50\n",
            "\u001b[1m8/8\u001b[0m \u001b[32m━━━━━━━━━━━━━━━━━━━━\u001b[0m\u001b[37m\u001b[0m \u001b[1m0s\u001b[0m 16ms/step - loss: 6.1747e-04 - mae: 0.0210 - val_loss: 1.7486e-04 - val_mae: 0.0107\n",
            "Epoch 31/50\n",
            "\u001b[1m8/8\u001b[0m \u001b[32m━━━━━━━━━━━━━━━━━━━━\u001b[0m\u001b[37m\u001b[0m \u001b[1m0s\u001b[0m 17ms/step - loss: 5.9395e-04 - mae: 0.0204 - val_loss: 3.2267e-04 - val_mae: 0.0169\n",
            "Epoch 32/50\n",
            "\u001b[1m8/8\u001b[0m \u001b[32m━━━━━━━━━━━━━━━━━━━━\u001b[0m\u001b[37m\u001b[0m \u001b[1m0s\u001b[0m 16ms/step - loss: 7.0630e-04 - mae: 0.0206 - val_loss: 2.4847e-04 - val_mae: 0.0148\n",
            "Epoch 33/50\n",
            "\u001b[1m8/8\u001b[0m \u001b[32m━━━━━━━━━━━━━━━━━━━━\u001b[0m\u001b[37m\u001b[0m \u001b[1m0s\u001b[0m 16ms/step - loss: 6.0926e-04 - mae: 0.0190 - val_loss: 7.0824e-05 - val_mae: 0.0069\n",
            "Epoch 34/50\n",
            "\u001b[1m8/8\u001b[0m \u001b[32m━━━━━━━━━━━━━━━━━━━━\u001b[0m\u001b[37m\u001b[0m \u001b[1m0s\u001b[0m 15ms/step - loss: 5.8439e-04 - mae: 0.0194 - val_loss: 2.3566e-04 - val_mae: 0.0148\n",
            "Epoch 35/50\n",
            "\u001b[1m8/8\u001b[0m \u001b[32m━━━━━━━━━━━━━━━━━━━━\u001b[0m\u001b[37m\u001b[0m \u001b[1m0s\u001b[0m 16ms/step - loss: 3.6654e-04 - mae: 0.0153 - val_loss: 4.7060e-05 - val_mae: 0.0059\n",
            "Epoch 36/50\n",
            "\u001b[1m8/8\u001b[0m \u001b[32m━━━━━━━━━━━━━━━━━━━━\u001b[0m\u001b[37m\u001b[0m \u001b[1m0s\u001b[0m 16ms/step - loss: 3.7157e-04 - mae: 0.0141 - val_loss: 1.6594e-04 - val_mae: 0.0126\n",
            "Epoch 37/50\n",
            "\u001b[1m8/8\u001b[0m \u001b[32m━━━━━━━━━━━━━━━━━━━━\u001b[0m\u001b[37m\u001b[0m \u001b[1m0s\u001b[0m 16ms/step - loss: 4.6971e-04 - mae: 0.0182 - val_loss: 7.3795e-05 - val_mae: 0.0082\n",
            "Epoch 38/50\n",
            "\u001b[1m8/8\u001b[0m \u001b[32m━━━━━━━━━━━━━━━━━━━━\u001b[0m\u001b[37m\u001b[0m \u001b[1m0s\u001b[0m 16ms/step - loss: 3.0985e-04 - mae: 0.0134 - val_loss: 6.8960e-05 - val_mae: 0.0081\n",
            "Epoch 39/50\n",
            "\u001b[1m8/8\u001b[0m \u001b[32m━━━━━━━━━━━━━━━━━━━━\u001b[0m\u001b[37m\u001b[0m \u001b[1m0s\u001b[0m 17ms/step - loss: 4.7584e-04 - mae: 0.0173 - val_loss: 1.0381e-04 - val_mae: 0.0099\n",
            "Epoch 40/50\n",
            "\u001b[1m8/8\u001b[0m \u001b[32m━━━━━━━━━━━━━━━━━━━━\u001b[0m\u001b[37m\u001b[0m \u001b[1m0s\u001b[0m 16ms/step - loss: 5.2130e-04 - mae: 0.0177 - val_loss: 5.8633e-05 - val_mae: 0.0074\n",
            "Epoch 41/50\n",
            "\u001b[1m8/8\u001b[0m \u001b[32m━━━━━━━━━━━━━━━━━━━━\u001b[0m\u001b[37m\u001b[0m \u001b[1m0s\u001b[0m 22ms/step - loss: 3.5099e-04 - mae: 0.0148 - val_loss: 4.4468e-05 - val_mae: 0.0063\n",
            "Epoch 42/50\n",
            "\u001b[1m8/8\u001b[0m \u001b[32m━━━━━━━━━━━━━━━━━━━━\u001b[0m\u001b[37m\u001b[0m \u001b[1m0s\u001b[0m 16ms/step - loss: 3.9080e-04 - mae: 0.0158 - val_loss: 1.7905e-05 - val_mae: 0.0040\n",
            "Epoch 43/50\n",
            "\u001b[1m8/8\u001b[0m \u001b[32m━━━━━━━━━━━━━━━━━━━━\u001b[0m\u001b[37m\u001b[0m \u001b[1m0s\u001b[0m 18ms/step - loss: 4.5572e-04 - mae: 0.0172 - val_loss: 6.7993e-05 - val_mae: 0.0080\n",
            "Epoch 44/50\n",
            "\u001b[1m8/8\u001b[0m \u001b[32m━━━━━━━━━━━━━━━━━━━━\u001b[0m\u001b[37m\u001b[0m \u001b[1m0s\u001b[0m 18ms/step - loss: 3.3725e-04 - mae: 0.0147 - val_loss: 1.1627e-05 - val_mae: 0.0030\n",
            "Epoch 45/50\n",
            "\u001b[1m8/8\u001b[0m \u001b[32m━━━━━━━━━━━━━━━━━━━━\u001b[0m\u001b[37m\u001b[0m \u001b[1m0s\u001b[0m 16ms/step - loss: 2.7951e-04 - mae: 0.0131 - val_loss: 5.8271e-05 - val_mae: 0.0055\n",
            "Epoch 46/50\n",
            "\u001b[1m8/8\u001b[0m \u001b[32m━━━━━━━━━━━━━━━━━━━━\u001b[0m\u001b[37m\u001b[0m \u001b[1m0s\u001b[0m 17ms/step - loss: 3.5071e-04 - mae: 0.0144 - val_loss: 6.7999e-05 - val_mae: 0.0074\n",
            "Epoch 47/50\n",
            "\u001b[1m8/8\u001b[0m \u001b[32m━━━━━━━━━━━━━━━━━━━━\u001b[0m\u001b[37m\u001b[0m \u001b[1m0s\u001b[0m 16ms/step - loss: 4.3233e-04 - mae: 0.0169 - val_loss: 8.0846e-05 - val_mae: 0.0087\n",
            "Epoch 48/50\n",
            "\u001b[1m8/8\u001b[0m \u001b[32m━━━━━━━━━━━━━━━━━━━━\u001b[0m\u001b[37m\u001b[0m \u001b[1m0s\u001b[0m 18ms/step - loss: 3.0988e-04 - mae: 0.0141 - val_loss: 1.5386e-04 - val_mae: 0.0116\n",
            "Epoch 49/50\n",
            "\u001b[1m8/8\u001b[0m \u001b[32m━━━━━━━━━━━━━━━━━━━━\u001b[0m\u001b[37m\u001b[0m \u001b[1m0s\u001b[0m 16ms/step - loss: 4.5632e-04 - mae: 0.0172 - val_loss: 1.0035e-04 - val_mae: 0.0094\n",
            "Epoch 50/50\n",
            "\u001b[1m8/8\u001b[0m \u001b[32m━━━━━━━━━━━━━━━━━━━━\u001b[0m\u001b[37m\u001b[0m \u001b[1m0s\u001b[0m 16ms/step - loss: 3.2870e-04 - mae: 0.0143 - val_loss: 5.2590e-05 - val_mae: 0.0066\n"
          ]
        }
      ]
    },
    {
      "cell_type": "code",
      "source": [
        "# Evaluate Model\n",
        "loss, mae = model.evaluate(X_test, y_test)\n",
        "print(f\"\\n Model Evaluation → Loss: {loss:.4f}, MAE: {mae:.4f}\")"
      ],
      "metadata": {
        "colab": {
          "base_uri": "https://localhost:8080/"
        },
        "id": "v5Y8ZqLesNg6",
        "outputId": "1c430214-0c23-4e20-9ae8-9e0beda7de5d"
      },
      "execution_count": 21,
      "outputs": [
        {
          "output_type": "stream",
          "name": "stdout",
          "text": [
            "\u001b[1m1/1\u001b[0m \u001b[32m━━━━━━━━━━━━━━━━━━━━\u001b[0m\u001b[37m\u001b[0m \u001b[1m0s\u001b[0m 43ms/step - loss: 5.2590e-05 - mae: 0.0066\n",
            "\n",
            " Model Evaluation → Loss: 0.0001, MAE: 0.0066\n"
          ]
        }
      ]
    },
    {
      "cell_type": "code",
      "source": [
        "# Plot training vs validation loss\n",
        "plt.plot(history.history[\"loss\"], label=\"Training Loss\")\n",
        "plt.plot(history.history[\"val_loss\"], label=\"Validation Loss\")\n",
        "plt.legend()\n",
        "plt.title(\"LSTM Training vs Validation Loss\")\n",
        "plt.show()\n"
      ],
      "metadata": {
        "colab": {
          "base_uri": "https://localhost:8080/",
          "height": 452
        },
        "id": "WfVap-TtseFO",
        "outputId": "074ea8d4-90cf-48aa-89da-952044abe244"
      },
      "execution_count": 23,
      "outputs": [
        {
          "output_type": "display_data",
          "data": {
            "text/plain": [
              "<Figure size 640x480 with 1 Axes>"
            ],
            "image/png": "[encoded data removed]"
          },
          "metadata": {}
        }
      ]
    },
    {
      "cell_type": "code",
      "source": [
        "# Select a random unseen test sample\n",
        "random_sample = X_test[5].reshape(1, X_test.shape[1], X_test.shape[2])\n",
        "\n",
        "# Predict the next calibration date\n",
        "predicted_days = model.predict(random_sample)\n",
        "\n",
        "# Convert prediction back to original scale\n",
        "predicted_original = scaler.inverse_transform([[0, 0, predicted_days[0][0], 0]])[:, 2]\n",
        "\n",
        "print(f\"\\n🔹 Predicted Days Until Next Calibration: {predicted_original[0]:.2f}\")"
      ],
      "metadata": {
        "colab": {
          "base_uri": "https://localhost:8080/"
        },
        "id": "XRYMNkogs64G",
        "outputId": "7602b9a9-3728-4b29-a2ad-1a81269de87c"
      },
      "execution_count": 25,
      "outputs": [
        {
          "output_type": "stream",
          "name": "stdout",
          "text": [
            "\u001b[1m1/1\u001b[0m \u001b[32m━━━━━━━━━━━━━━━━━━━━\u001b[0m\u001b[37m\u001b[0m \u001b[1m0s\u001b[0m 73ms/step\n",
            "\n",
            "🔹 Predicted Days Until Next Calibration: 415.01\n"
          ]
        }
      ]
    },
    {
      "cell_type": "code",
      "source": [
        "# Make Predictions\n",
        "y_pred = model.predict(X_test)"
      ],
      "metadata": {
        "colab": {
          "base_uri": "https://localhost:8080/"
        },
        "id": "o49Pl_x7tZVA",
        "outputId": "881b59cb-8003-4598-82ad-5f2a22244ee7"
      },
      "execution_count": 26,
      "outputs": [
        {
          "output_type": "stream",
          "name": "stdout",
          "text": [
            "\u001b[1m1/1\u001b[0m \u001b[32m━━━━━━━━━━━━━━━━━━━━\u001b[0m\u001b[37m\u001b[0m \u001b[1m0s\u001b[0m 331ms/step\n"
          ]
        }
      ]
    },
    {
      "cell_type": "code",
      "source": [
        "# Convert Predictions Back to Original Scale\n",
        "\n",
        "# Create an array with the correct number of features (4)\n",
        "num_samples = y_pred.shape[0]  # Get the number of samples in y_pred\n",
        "transformed_data = np.zeros((num_samples, 4))  # Initialize an array with zeros\n",
        "\n",
        "# Fill the relevant column with the predictions\n",
        "transformed_data[:, 3] = y_pred.flatten()  # Assuming 'Days_Until_Next_Calibration' is the 4th column (index 3)\n",
        "\n",
        "# Apply inverse_transform\n",
        "y_pred_original = scaler.inverse_transform(transformed_data)[:, 3]  # Extract the predicted 'Days_Until_Next_Calibration'"
      ],
      "metadata": {
        "id": "AEgcQjIhtdDF"
      },
      "execution_count": 28,
      "outputs": []
    },
    {
      "cell_type": "code",
      "source": [
        "# Save Predictions\n",
        "df_predictions = pd.DataFrame({\"Actual_Days_Until_Next_Calibration\": y_test, \"Predicted_Days_Until_Next_Calibration\": y_pred_original})\n",
        "df_predictions.to_csv(\"LSTM_Predictions.csv\", index=False)"
      ],
      "metadata": {
        "id": "X02s6qsoti4R"
      },
      "execution_count": 29,
      "outputs": []
    },
    {
      "cell_type": "code",
      "source": [
        "# Save Model\n",
        "model.save(\"calibration_forecast_lstm.h5\")\n",
        "\n",
        "print(\"\\n LSTM Model Training Complete & Saved!\")"
      ],
      "metadata": {
        "colab": {
          "base_uri": "https://localhost:8080/"
        },
        "id": "1_X55NNJpgqv",
        "outputId": "0dd9e2e5-cfd5-463f-cf50-bf07100814b3"
      },
      "execution_count": 30,
      "outputs": [
        {
          "output_type": "stream",
          "name": "stderr",
          "text": [
            "WARNING:absl:You are saving your model as an HDF5 file via `model.save()` or `keras.saving.save_model(model)`. This file format is considered legacy. We recommend using instead the native Keras format, e.g. `model.save('my_model.keras')` or `keras.saving.save_model(model, 'my_model.keras')`. \n"
          ]
        },
        {
          "output_type": "stream",
          "name": "stdout",
          "text": [
            "\n",
            " LSTM Model Training Complete & Saved!\n"
          ]
        }
      ]
    }
  ]
}