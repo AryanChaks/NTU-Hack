{
  "nbformat": 4,
  "nbformat_minor": 0,
  "metadata": {
    "colab": {
      "provenance": []
    },
    "kernelspec": {
      "name": "python3",
      "display_name": "Python 3"
    },
    "language_info": {
      "name": "python"
    }
  },
  "cells": [
    {
      "cell_type": "markdown",
      "source": [
        "We will create a risk score for each tool based on:\n",
        "1. Days Since Last Calibration (Older tools = Higher risk)\n",
        "2. Anomaly Score (Autoencoder flagged anomalies = Higher risk)\n",
        "3. Months Remaining Before Calibration (Less time left = Higher risk)"
      ],
      "metadata": {
        "id": "2aYnU3nK0DMc"
      }
    },
    {
      "cell_type": "code",
      "execution_count": 1,
      "metadata": {
        "id": "WBnyiZf9zj6W"
      },
      "outputs": [],
      "source": [
        "import numpy as np\n",
        "import pandas as pd\n",
        "import joblib\n",
        "import matplotlib.pyplot as plt\n",
        "import seaborn as sns"
      ]
    },
    {
      "cell_type": "code",
      "source": [
        "# Load processed dataset\n",
        "df = pd.read_csv(\"Processed_Bosch_Dataset.csv\")"
      ],
      "metadata": {
        "id": "S0u60Ucu0lE9"
      },
      "execution_count": 2,
      "outputs": []
    },
    {
      "cell_type": "code",
      "source": [
        "# Load scaler from EDA to ensure consistency (if needed for additional scaling)\n",
        "scaler = joblib.load(\"scaler.pkl\")"
      ],
      "metadata": {
        "id": "IBUIcUrs0noh"
      },
      "execution_count": 3,
      "outputs": []
    },
    {
      "cell_type": "code",
      "source": [
        "# Ensure Autoencoder anomaly scores are included\n",
        "if \"Anomaly_Score_AE\" not in df.columns:\n",
        "    anomalies_df = pd.read_csv(\"Detected_Anomalies_Autoencoder.csv\")\n",
        "    df = df.merge(anomalies_df[[\"Tool_Description\", \"Anomaly_Score_AE\"]], on=\"Tool_Description\", how=\"left\")"
      ],
      "metadata": {
        "id": "EwnHE5-y0629"
      },
      "execution_count": 4,
      "outputs": []
    },
    {
      "cell_type": "code",
      "source": [
        "df[\"Anomaly_Score_AE\"] = df[\"Anomaly_Score_AE\"].fillna(0)  # Ensure no missing values"
      ],
      "metadata": {
        "id": "0tAHp_H908fX"
      },
      "execution_count": 5,
      "outputs": []
    },
    {
      "cell_type": "code",
      "source": [
        "print(\"\\n Successfully loaded data with anomaly scores!\")"
      ],
      "metadata": {
        "colab": {
          "base_uri": "https://localhost:8080/"
        },
        "id": "96eS6n4C0-bh",
        "outputId": "30a2aad5-ecca-4e1a-f3aa-7e4b306f52d5"
      },
      "execution_count": 6,
      "outputs": [
        {
          "output_type": "stream",
          "name": "stdout",
          "text": [
            "\n",
            " Successfully loaded data with anomaly scores!\n"
          ]
        }
      ]
    },
    {
      "cell_type": "markdown",
      "source": [
        "We will use a weighted scoring system to determine risk levels:\n",
        "\n",
        "*   40% → Days Since Last Calibration (Older tools = Higher risk)\n",
        "*   30% → Months Remaining Before Next Calibration (Less time left = Higher risk)\n",
        "\n",
        "*   30% → Anomaly Score (If flagged as an anomaly, higher risk)"
      ],
      "metadata": {
        "id": "aAsOGnFO2JhI"
      }
    },
    {
      "cell_type": "code",
      "source": [
        "# Define Risk Score Formula (Weighted Factors)\n",
        "df[\"Risk_Score\"] = (\n",
        "    (df[\"Days_Since_Last_Calibration\"] / df[\"Days_Since_Last_Calibration\"].max()) * 0.4 +  # Weight 40%\n",
        "    (df[\"Months_Remaining\"].apply(lambda x: 1 - (x / df[\"Months_Remaining\"].max()))) * 0.3 +  # Weight 30%\n",
        "    (df[\"Anomaly_Score_AE\"] * 0.3)  # Weight 30%\n",
        ")"
      ],
      "metadata": {
        "id": "cJXvIwKv0JvV"
      },
      "execution_count": 7,
      "outputs": []
    },
    {
      "cell_type": "code",
      "source": [
        "# Normalize Risk Score (0 to 100 Scale)\n",
        "df[\"Risk_Score\"] = df[\"Risk_Score\"] * 100"
      ],
      "metadata": {
        "id": "8W4vFb9Q0LTt"
      },
      "execution_count": 8,
      "outputs": []
    },
    {
      "cell_type": "code",
      "source": [
        "# Save Risk Scores\n",
        "df.to_csv(\"Compliance_Risk_Scores.csv\", index=False)"
      ],
      "metadata": {
        "id": "bRcQOkka0M4-"
      },
      "execution_count": 9,
      "outputs": []
    },
    {
      "cell_type": "code",
      "source": [
        "print(\"\\n Compliance Risk Scores Generated & Saved!\")"
      ],
      "metadata": {
        "colab": {
          "base_uri": "https://localhost:8080/"
        },
        "id": "4V6rmCVk0Oi5",
        "outputId": "aec63333-c43a-4a4d-d214-05cd50f0e29f"
      },
      "execution_count": 10,
      "outputs": [
        {
          "output_type": "stream",
          "name": "stdout",
          "text": [
            "\n",
            " Compliance Risk Scores Generated & Saved!\n"
          ]
        }
      ]
    },
    {
      "cell_type": "code",
      "source": [
        "# Histogram of Risk Scores\n",
        "plt.figure(figsize=(8,5))\n",
        "sns.histplot(df[\"Risk_Score\"], bins=20, kde=True, color=\"red\")\n",
        "plt.title(\"Distribution of Compliance Risk Scores\")\n",
        "plt.xlabel(\"Risk Score\")\n",
        "plt.ylabel(\"Number of Tools\")\n",
        "plt.show()"
      ],
      "metadata": {
        "colab": {
          "base_uri": "https://localhost:8080/",
          "height": 487
        },
        "id": "zt1rW2901qiw",
        "outputId": "22f84b34-e80e-4850-c031-320db3017ea7"
      },
      "execution_count": 11,
      "outputs": [
        {
          "output_type": "display_data",
          "data": {
            "text/plain": [
              "<Figure size 800x500 with 1 Axes>"
            ],
            "image/png": "[encoded data removed]"
          },
          "metadata": {}
        }
      ]
    },
    {
      "cell_type": "code",
      "source": [
        "# Highlight High-Risk Tools\n",
        "df_high_risk = df[df[\"Risk_Score\"] > 70]  # Tools with high risk\n",
        "print(f\"\\n🔹 High-Risk Tools Identified: {len(df_high_risk)}\")"
      ],
      "metadata": {
        "colab": {
          "base_uri": "https://localhost:8080/"
        },
        "id": "WZdaSBMw1tbU",
        "outputId": "a9b43d7b-f808-45a2-9489-101d745bf0dd"
      },
      "execution_count": 12,
      "outputs": [
        {
          "output_type": "stream",
          "name": "stdout",
          "text": [
            "\n",
            "🔹 High-Risk Tools Identified: 1\n"
          ]
        }
      ]
    },
    {
      "cell_type": "code",
      "source": [
        "# Print High-Risk Tool Details\n",
        "print(\"\\n High-Risk Tool Details:\\n\")\n",
        "print(df_high_risk[[\"Tool_Description\", \"Days_Since_Last_Calibration\", \"Months_Remaining\", \"Anomaly_Score_AE\", \"Risk_Score\"]])"
      ],
      "metadata": {
        "colab": {
          "base_uri": "https://localhost:8080/"
        },
        "id": "KOEZt5w22lUY",
        "outputId": "319cde1e-38b0-4143-fa23-ca93ae223cd3"
      },
      "execution_count": 13,
      "outputs": [
        {
          "output_type": "stream",
          "name": "stdout",
          "text": [
            "\n",
            " High-Risk Tool Details:\n",
            "\n",
            "            Tool_Description  Days_Since_Last_Calibration  Months_Remaining  \\\n",
            "88  Tachometer (non-contact)                     0.634489          0.370265   \n",
            "\n",
            "    Anomaly_Score_AE  Risk_Score  \n",
            "88               1.0   74.271614  \n"
          ]
        }
      ]
    },
    {
      "cell_type": "code",
      "source": [
        "# Adjusted Threshold for High-Risk Tools\n",
        "df_high_risk = df[df[\"Risk_Score\"] > 50]\n",
        "print(f\"\\n🔹 Adjusted High-Risk Tools Identified: {len(df_high_risk)}\")"
      ],
      "metadata": {
        "colab": {
          "base_uri": "https://localhost:8080/"
        },
        "id": "RYXBjvaE2pFp",
        "outputId": "c1faa0f2-5072-45d7-b80f-78465e418628"
      },
      "execution_count": 14,
      "outputs": [
        {
          "output_type": "stream",
          "name": "stdout",
          "text": [
            "\n",
            "🔹 Adjusted High-Risk Tools Identified: 4\n"
          ]
        }
      ]
    },
    {
      "cell_type": "code",
      "source": [
        "# Save High-Risk Tools for Report Generation\n",
        "df_high_risk.to_csv(\"High_Risk_Tools.csv\", index=False)\n",
        "print(\"\\n High-Risk Tools Saved for Report Generation!\")"
      ],
      "metadata": {
        "colab": {
          "base_uri": "https://localhost:8080/"
        },
        "id": "c9vXOTXF2sJd",
        "outputId": "5b1b7094-2633-492e-a532-a05b175a6bea"
      },
      "execution_count": 15,
      "outputs": [
        {
          "output_type": "stream",
          "name": "stdout",
          "text": [
            "\n",
            " High-Risk Tools Saved for Report Generation!\n"
          ]
        }
      ]
    }
  ]
}